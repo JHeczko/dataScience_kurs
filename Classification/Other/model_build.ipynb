{
 "cells": [
  {
   "metadata": {},
   "cell_type": "markdown",
   "source": "# Classification challange",
   "id": "27fc6a923157a6c"
  },
  {
   "metadata": {
    "collapsed": true,
    "ExecuteTime": {
     "end_time": "2025-04-30T11:26:11.682644Z",
     "start_time": "2025-04-30T11:26:11.666921Z"
    }
   },
   "cell_type": "code",
   "source": [
    "import keras\n",
    "from keras import Sequential\n",
    "from keras.layers.core import Dense, Dropout, Activation, Flatten\n",
    "from keras.layers import InputLayer\n",
    "from keras.initializers.initializers import HeNormal\n",
    "\n",
    "import nltk\n",
    "from keras.regularizers import l2\n",
    "from nltk import WordNetLemmatizer, TweetTokenizer\n",
    "\n",
    "import pandas as pd\n",
    "import numpy as np\n",
    "\n",
    "from sklearn.feature_extraction.text import CountVectorizer, TfidfTransformer, TfidfVectorizer\n",
    "from sklearn.linear_model import LogisticRegression\n",
    "from sklearn.metrics import f1_score\n",
    "from sklearn.model_selection import train_test_split\n",
    "\n",
    "from matplotlib import pyplot as plt\n",
    "\n",
    "from collections import Counter\n",
    "import re\n",
    "import string\n",
    "\n",
    "from scipy import sparse\n",
    "from xgboost import XGBClassifier\n",
    "\n",
    "nltk.download('stopwords')\n",
    "nltk.download('wordnet')"
   ],
   "id": "initial_id",
   "outputs": [
    {
     "name": "stderr",
     "output_type": "stream",
     "text": [
      "[nltk_data] Downloading package stopwords to /Users/wrex/nltk_data...\n",
      "[nltk_data]   Package stopwords is already up-to-date!\n",
      "[nltk_data] Downloading package wordnet to /Users/wrex/nltk_data...\n",
      "[nltk_data]   Package wordnet is already up-to-date!\n"
     ]
    },
    {
     "data": {
      "text/plain": [
       "True"
      ]
     },
     "execution_count": 44,
     "metadata": {},
     "output_type": "execute_result"
    }
   ],
   "execution_count": 44
  },
  {
   "metadata": {
    "ExecuteTime": {
     "end_time": "2025-04-30T11:22:48.335979Z",
     "start_time": "2025-04-30T11:22:48.255894Z"
    }
   },
   "cell_type": "code",
   "source": [
    "X = pd.read_csv(\"./data/Xtrain.csv\", encoding=\"utf-8\")\n",
    "y = pd.read_csv(\"./data/ytrain.csv\", encoding=\"utf-8\")\n",
    "print(f\"Shape of datasets:\\n\\t-X: {X.shape}\\n\\t-y: {y.shape}\")"
   ],
   "id": "97dc3fbf16a6b35b",
   "outputs": [
    {
     "name": "stdout",
     "output_type": "stream",
     "text": [
      "Shape of datasets:\n",
      "\t-X: (1704, 1)\n",
      "\t-y: (1704, 1)\n"
     ]
    }
   ],
   "execution_count": 31
  },
  {
   "metadata": {
    "ExecuteTime": {
     "end_time": "2025-04-30T11:22:48.356403Z",
     "start_time": "2025-04-30T11:22:48.352421Z"
    }
   },
   "cell_type": "code",
   "source": [
    "def transform_wordnet(line):\n",
    "    tweet_tokenizer = TweetTokenizer()\n",
    "    wordnet = WordNetLemmatizer()\n",
    "    line_arr = tweet_tokenizer.tokenize(line)\n",
    "    line_net_arr = [wordnet.lemmatize(word, pos='v') for word in line_arr]\n",
    "    line = \" \".join(line_net_arr)\n",
    "\n",
    "    return line\n",
    "\n",
    "def clear_tweets(data):\n",
    "    data['text'] = data['text'].apply(lambda x: x.lower())\n",
    "\n",
    "    data['text'] = data['text'].apply(lambda x: re.sub(r'[^\\x00-\\x7F]+', '', x))\n",
    "\n",
    "    data['text'] = data['text'].apply(lambda x: re.sub(r'\\s+', ' ', x))\n",
    "\n",
    "    data['text'] = data['text'].apply(lambda x: re.sub(r'\\d+', ' ', x))\n",
    "\n",
    "    data['text'] = data['text'].apply(lambda x: re.sub(r'[' + re.escape(string.punctuation) + r']', ' ', x))\n",
    "\n",
    "    data['text'] = data['text'].apply(lambda x: re.sub(r'\\s+', ' ', x))\n",
    "\n",
    "    data['text'] = data['text'].apply(lambda x: transform_wordnet(x))\n",
    "\n",
    "\n",
    "    return data"
   ],
   "id": "b4868a5c8aa9ec1b",
   "outputs": [],
   "execution_count": 32
  },
  {
   "metadata": {
    "ExecuteTime": {
     "end_time": "2025-04-30T11:22:53.802854Z",
     "start_time": "2025-04-30T11:22:48.375249Z"
    }
   },
   "cell_type": "code",
   "source": [
    "X = clear_tweets(X)\n",
    "X['sentiment'] = y.sentiment\n",
    "X.drop_duplicates(subset=['text'], inplace=True, ignore_index=True)\n",
    "y = X.pop('sentiment')\n",
    "X"
   ],
   "id": "5d30ec926ccea7c2",
   "outputs": [
    {
     "data": {
      "text/plain": [
       "                                                   text\n",
       "0     the coachella valley music and arts festival b...\n",
       "1     the sec have delay its decision on btc exchang...\n",
       "2     new article new article the second circuit rul...\n",
       "3     get local news deliver to your inbox the signi...\n",
       "4     advertisement for premium support please call ...\n",
       "...                                                 ...\n",
       "1281  bloomberg european and us equity index futures...\n",
       "1282  sbi vc trade the digital asset division of the...\n",
       "1283  fund next gen business journalism with a month...\n",
       "1284  ripple chief legal officer stuart alderoty rec...\n",
       "1285  compare account get guidance compare account g...\n",
       "\n",
       "[1286 rows x 1 columns]"
      ],
      "text/html": [
       "<div>\n",
       "<style scoped>\n",
       "    .dataframe tbody tr th:only-of-type {\n",
       "        vertical-align: middle;\n",
       "    }\n",
       "\n",
       "    .dataframe tbody tr th {\n",
       "        vertical-align: top;\n",
       "    }\n",
       "\n",
       "    .dataframe thead th {\n",
       "        text-align: right;\n",
       "    }\n",
       "</style>\n",
       "<table border=\"1\" class=\"dataframe\">\n",
       "  <thead>\n",
       "    <tr style=\"text-align: right;\">\n",
       "      <th></th>\n",
       "      <th>text</th>\n",
       "    </tr>\n",
       "  </thead>\n",
       "  <tbody>\n",
       "    <tr>\n",
       "      <th>0</th>\n",
       "      <td>the coachella valley music and arts festival b...</td>\n",
       "    </tr>\n",
       "    <tr>\n",
       "      <th>1</th>\n",
       "      <td>the sec have delay its decision on btc exchang...</td>\n",
       "    </tr>\n",
       "    <tr>\n",
       "      <th>2</th>\n",
       "      <td>new article new article the second circuit rul...</td>\n",
       "    </tr>\n",
       "    <tr>\n",
       "      <th>3</th>\n",
       "      <td>get local news deliver to your inbox the signi...</td>\n",
       "    </tr>\n",
       "    <tr>\n",
       "      <th>4</th>\n",
       "      <td>advertisement for premium support please call ...</td>\n",
       "    </tr>\n",
       "    <tr>\n",
       "      <th>...</th>\n",
       "      <td>...</td>\n",
       "    </tr>\n",
       "    <tr>\n",
       "      <th>1281</th>\n",
       "      <td>bloomberg european and us equity index futures...</td>\n",
       "    </tr>\n",
       "    <tr>\n",
       "      <th>1282</th>\n",
       "      <td>sbi vc trade the digital asset division of the...</td>\n",
       "    </tr>\n",
       "    <tr>\n",
       "      <th>1283</th>\n",
       "      <td>fund next gen business journalism with a month...</td>\n",
       "    </tr>\n",
       "    <tr>\n",
       "      <th>1284</th>\n",
       "      <td>ripple chief legal officer stuart alderoty rec...</td>\n",
       "    </tr>\n",
       "    <tr>\n",
       "      <th>1285</th>\n",
       "      <td>compare account get guidance compare account g...</td>\n",
       "    </tr>\n",
       "  </tbody>\n",
       "</table>\n",
       "<p>1286 rows × 1 columns</p>\n",
       "</div>"
      ]
     },
     "execution_count": 33,
     "metadata": {},
     "output_type": "execute_result"
    }
   ],
   "execution_count": 33
  },
  {
   "metadata": {
    "ExecuteTime": {
     "end_time": "2025-04-30T11:22:53.854627Z",
     "start_time": "2025-04-30T11:22:53.850946Z"
    }
   },
   "cell_type": "code",
   "source": "y",
   "id": "8bf82bdfde609347",
   "outputs": [
    {
     "data": {
      "text/plain": [
       "0       0\n",
       "1       2\n",
       "2       2\n",
       "3       0\n",
       "4       0\n",
       "       ..\n",
       "1281    0\n",
       "1282    2\n",
       "1283    0\n",
       "1284    0\n",
       "1285    2\n",
       "Name: sentiment, Length: 1286, dtype: int64"
      ]
     },
     "execution_count": 34,
     "metadata": {},
     "output_type": "execute_result"
    }
   ],
   "execution_count": 34
  },
  {
   "metadata": {
    "ExecuteTime": {
     "end_time": "2025-04-30T11:22:56.882961Z",
     "start_time": "2025-04-30T11:22:53.967469Z"
    }
   },
   "cell_type": "code",
   "source": [
    "def my_tokenizer(text):\n",
    "    tweet_tokenizer = TweetTokenizer()\n",
    "    return tweet_tokenizer.tokenize(text)\n",
    "\n",
    "tfidf_vectorizer = TfidfVectorizer(analyzer='word',tokenizer=my_tokenizer,stop_words='english', norm='l2')\n",
    "\n",
    "X_tfidf:sparse.csr_matrix = tfidf_vectorizer.fit_transform(X['text'].values)"
   ],
   "id": "4efcfe43632c1558",
   "outputs": [
    {
     "name": "stderr",
     "output_type": "stream",
     "text": [
      "/opt/miniconda3/envs/bobot_env/lib/python3.11/site-packages/sklearn/feature_extraction/text.py:517: UserWarning: The parameter 'token_pattern' will not be used since 'tokenizer' is not None'\n",
      "  warnings.warn(\n"
     ]
    }
   ],
   "execution_count": 35
  },
  {
   "metadata": {},
   "cell_type": "markdown",
   "source": "> NOTE: now we have cleared from whitespaces and junks text, with the wordnet synonims in order to make text more generic",
   "id": "83dbefdc9ed38841"
  },
  {
   "metadata": {},
   "cell_type": "markdown",
   "source": "# Visualization",
   "id": "c559f064f156ef02"
  },
  {
   "metadata": {
    "ExecuteTime": {
     "end_time": "2025-04-30T11:22:56.926542Z",
     "start_time": "2025-04-30T11:22:56.920694Z"
    }
   },
   "cell_type": "code",
   "source": [
    "def visualize_history(history):\n",
    "    acc_hist = history.history['accuracy']\n",
    "    val_acc_hist = history.history['val_accuracy']\n",
    "    loss_hist = history.history['loss']\n",
    "    val_loss_hist = history.history['val_loss']\n",
    "\n",
    "    plt.plot(acc_hist, label='accuracy')\n",
    "    plt.plot(val_acc_hist, label='validation accuracy')\n",
    "    plt.legend()\n",
    "    plt.show()\n",
    "\n",
    "    plt.plot(loss_hist, label='loss')\n",
    "    plt.plot(val_loss_hist, label='validation loss')\n",
    "    plt.legend()\n",
    "    plt.show()"
   ],
   "id": "d8c37e0225c6ed66",
   "outputs": [],
   "execution_count": 36
  },
  {
   "metadata": {
    "ExecuteTime": {
     "end_time": "2025-04-30T11:22:56.979817Z",
     "start_time": "2025-04-30T11:22:56.949120Z"
    }
   },
   "cell_type": "code",
   "source": [
    "from collections import Counter\n",
    "\n",
    "y_count = Counter(y)\n",
    "plt.pie(y_count.values(), labels=y_count.keys())\n",
    "plt.show()"
   ],
   "id": "e059ef04fa681cf9",
   "outputs": [
    {
     "data": {
      "text/plain": [
       "<Figure size 640x480 with 1 Axes>"
      ],
      "image/png": "[encoded data removed]"
     },
     "metadata": {},
     "output_type": "display_data"
    }
   ],
   "execution_count": 37
  },
  {
   "metadata": {},
   "cell_type": "markdown",
   "source": "# Predictions",
   "id": "f10a5d0b39f5e362"
  },
  {
   "metadata": {
    "ExecuteTime": {
     "end_time": "2025-04-30T11:22:56.998067Z",
     "start_time": "2025-04-30T11:22:56.991535Z"
    }
   },
   "cell_type": "code",
   "source": "X_train, X_test, y_train, y_test = train_test_split(X_tfidf,y.values.reshape(-1,), test_size=0.2, random_state=42, stratify=y.values)",
   "id": "9106a2b403adfc0e",
   "outputs": [],
   "execution_count": 38
  },
  {
   "metadata": {
    "ExecuteTime": {
     "end_time": "2025-04-30T11:22:57.048155Z",
     "start_time": "2025-04-30T11:22:57.043191Z"
    }
   },
   "cell_type": "code",
   "source": [
    "def check_score(y_true, y_pred):\n",
    "    print(f\"F1Score: {f1_score(y_true, y_pred, average='macro')}\")"
   ],
   "id": "d2dc79db77908d1e",
   "outputs": [],
   "execution_count": 39
  },
  {
   "metadata": {
    "ExecuteTime": {
     "end_time": "2025-04-30T11:22:57.135686Z",
     "start_time": "2025-04-30T11:22:57.065231Z"
    }
   },
   "cell_type": "code",
   "source": [
    "model = LogisticRegression(penalty='l2', solver='sag', multi_class='multinomial')\n",
    "\n",
    "model.fit(X_train, y_train)\n",
    "\n",
    "y_pred = model.predict(X_test)\n",
    "\n",
    "check_score(y_test, y_pred)"
   ],
   "id": "f46ab67a29d9db22",
   "outputs": [
    {
     "name": "stdout",
     "output_type": "stream",
     "text": [
      "F1Score: 0.5670711948738855\n"
     ]
    },
    {
     "name": "stderr",
     "output_type": "stream",
     "text": [
      "/opt/miniconda3/envs/bobot_env/lib/python3.11/site-packages/sklearn/linear_model/_logistic.py:1247: FutureWarning: 'multi_class' was deprecated in version 1.5 and will be removed in 1.7. From then on, it will always use 'multinomial'. Leave it to its default value to avoid this warning.\n",
      "  warnings.warn(\n"
     ]
    }
   ],
   "execution_count": 40
  },
  {
   "metadata": {
    "ExecuteTime": {
     "end_time": "2025-04-30T11:37:37.407618Z",
     "start_time": "2025-04-30T11:37:13.814663Z"
    }
   },
   "cell_type": "code",
   "source": [
    "model = XGBClassifier(n_estimators=500, learning_rate=0.1)\n",
    "model.fit(X_train, y_train)\n",
    "y_pred = model.predict(X_test)\n",
    "check_score(y_test, y_pred)"
   ],
   "id": "23bfc1a5b107d249",
   "outputs": [
    {
     "name": "stdout",
     "output_type": "stream",
     "text": [
      "F1Score: 0.624616729298708\n"
     ]
    }
   ],
   "execution_count": 64
  },
  {
   "metadata": {},
   "cell_type": "markdown",
   "source": "# FFNN - Keras",
   "id": "1ed4eedcd00da9d2"
  },
  {
   "metadata": {
    "ExecuteTime": {
     "end_time": "2025-04-30T11:26:43.167141Z",
     "start_time": "2025-04-30T11:26:43.151841Z"
    }
   },
   "cell_type": "code",
   "source": [
    "def build_model():\n",
    "    model = Sequential()\n",
    "\n",
    "    model.add(Dense(100, activation='relu', kernel_initializer=HeNormal(), kernel_regularizer=l2(0.001),input_shape=(X_tfidf.shape[1],)))\n",
    "\n",
    "    model.add(Dense(50, activation='relu',kernel_initializer=HeNormal()))\n",
    "\n",
    "    model.add(Dense(100, activation='relu', kernel_initializer=HeNormal()))\n",
    "\n",
    "\n",
    "    model.add(Dense(3, activation='softmax'))\n",
    "\n",
    "    model.compile(loss='sparse_categorical_crossentropy', optimizer='adam', metrics=['accuracy'])\n",
    "\n",
    "    return model"
   ],
   "id": "9d78255f81efe92e",
   "outputs": [],
   "execution_count": 47
  },
  {
   "metadata": {
    "ExecuteTime": {
     "end_time": "2025-04-30T11:32:41.833348Z",
     "start_time": "2025-04-30T11:32:25.009818Z"
    }
   },
   "cell_type": "code",
   "source": [
    "model = build_model()\n",
    "hist = model.fit(X_train.toarray(),\n",
    "                 y_train,validation_data=(X_test.toarray(),y_test),\n",
    "                 epochs=60,\n",
    "                 batch_size=12)\n",
    "y_pred = model.predict(X_test.toarray())"
   ],
   "id": "e2e93c9b17d6466a",
   "outputs": [
    {
     "name": "stdout",
     "output_type": "stream",
     "text": [
      "Epoch 1/60\n",
      "43/43 [==============================] - 1s 11ms/step - loss: 0.7628 - accuracy: 0.7996 - val_loss: 0.4864 - val_accuracy: 0.8372\n",
      "Epoch 2/60\n",
      "43/43 [==============================] - 0s 6ms/step - loss: 0.3080 - accuracy: 0.9193 - val_loss: 0.4938 - val_accuracy: 0.8295\n",
      "Epoch 3/60\n",
      "43/43 [==============================] - 0s 6ms/step - loss: 0.1788 - accuracy: 0.9601 - val_loss: 0.5495 - val_accuracy: 0.8217\n",
      "Epoch 4/60\n",
      "43/43 [==============================] - 0s 7ms/step - loss: 0.1438 - accuracy: 0.9660 - val_loss: 0.6308 - val_accuracy: 0.8295\n",
      "Epoch 5/60\n",
      "43/43 [==============================] - 0s 6ms/step - loss: 0.1116 - accuracy: 0.9815 - val_loss: 0.5751 - val_accuracy: 0.8566\n",
      "Epoch 6/60\n",
      "43/43 [==============================] - 0s 7ms/step - loss: 0.0777 - accuracy: 0.9942 - val_loss: 0.5693 - val_accuracy: 0.8566\n",
      "Epoch 7/60\n",
      "43/43 [==============================] - 0s 6ms/step - loss: 0.0658 - accuracy: 0.9942 - val_loss: 0.6122 - val_accuracy: 0.8450\n",
      "Epoch 8/60\n",
      "43/43 [==============================] - 0s 6ms/step - loss: 0.0629 - accuracy: 0.9932 - val_loss: 0.6202 - val_accuracy: 0.8372\n",
      "Epoch 9/60\n",
      "43/43 [==============================] - 0s 6ms/step - loss: 0.0618 - accuracy: 0.9971 - val_loss: 0.7501 - val_accuracy: 0.8372\n",
      "Epoch 10/60\n",
      "43/43 [==============================] - 0s 6ms/step - loss: 0.0700 - accuracy: 0.9903 - val_loss: 0.7345 - val_accuracy: 0.8333\n",
      "Epoch 11/60\n",
      "43/43 [==============================] - 0s 6ms/step - loss: 0.1340 - accuracy: 0.9796 - val_loss: 0.7956 - val_accuracy: 0.8295\n",
      "Epoch 12/60\n",
      "43/43 [==============================] - 0s 5ms/step - loss: 0.1527 - accuracy: 0.9815 - val_loss: 0.8410 - val_accuracy: 0.8101\n",
      "Epoch 13/60\n",
      "43/43 [==============================] - 0s 6ms/step - loss: 0.1357 - accuracy: 0.9883 - val_loss: 0.7926 - val_accuracy: 0.8488\n",
      "Epoch 14/60\n",
      "43/43 [==============================] - 0s 6ms/step - loss: 0.1207 - accuracy: 0.9932 - val_loss: 0.8438 - val_accuracy: 0.8178\n",
      "Epoch 15/60\n",
      "43/43 [==============================] - 0s 6ms/step - loss: 0.0936 - accuracy: 0.9961 - val_loss: 0.7780 - val_accuracy: 0.8372\n",
      "Epoch 16/60\n",
      "43/43 [==============================] - 0s 6ms/step - loss: 0.0724 - accuracy: 0.9990 - val_loss: 0.8028 - val_accuracy: 0.8333\n",
      "Epoch 17/60\n",
      "43/43 [==============================] - 0s 6ms/step - loss: 0.0559 - accuracy: 1.0000 - val_loss: 0.8256 - val_accuracy: 0.8333\n",
      "Epoch 18/60\n",
      "43/43 [==============================] - 0s 7ms/step - loss: 0.0544 - accuracy: 0.9981 - val_loss: 0.7686 - val_accuracy: 0.8450\n",
      "Epoch 19/60\n",
      "43/43 [==============================] - 0s 6ms/step - loss: 0.0522 - accuracy: 0.9971 - val_loss: 0.7727 - val_accuracy: 0.8372\n",
      "Epoch 20/60\n",
      "43/43 [==============================] - 0s 6ms/step - loss: 0.0617 - accuracy: 0.9932 - val_loss: 0.7333 - val_accuracy: 0.8101\n",
      "Epoch 21/60\n",
      "43/43 [==============================] - 0s 7ms/step - loss: 0.0541 - accuracy: 0.9951 - val_loss: 0.8016 - val_accuracy: 0.8411\n",
      "Epoch 22/60\n",
      "43/43 [==============================] - 0s 5ms/step - loss: 0.0441 - accuracy: 0.9990 - val_loss: 0.7540 - val_accuracy: 0.8256\n",
      "Epoch 23/60\n",
      "43/43 [==============================] - 0s 6ms/step - loss: 0.0366 - accuracy: 1.0000 - val_loss: 0.7229 - val_accuracy: 0.8372\n",
      "Epoch 24/60\n",
      "43/43 [==============================] - 0s 5ms/step - loss: 0.0356 - accuracy: 0.9981 - val_loss: 0.7439 - val_accuracy: 0.8333\n",
      "Epoch 25/60\n",
      "43/43 [==============================] - 0s 6ms/step - loss: 0.0728 - accuracy: 0.9883 - val_loss: 1.0410 - val_accuracy: 0.8023\n",
      "Epoch 26/60\n",
      "43/43 [==============================] - 0s 5ms/step - loss: 0.2160 - accuracy: 0.9621 - val_loss: 0.6744 - val_accuracy: 0.8411\n",
      "Epoch 27/60\n",
      "43/43 [==============================] - 0s 8ms/step - loss: 0.1545 - accuracy: 0.9854 - val_loss: 0.7744 - val_accuracy: 0.8333\n",
      "Epoch 28/60\n",
      "43/43 [==============================] - 0s 6ms/step - loss: 0.1084 - accuracy: 0.9981 - val_loss: 0.8038 - val_accuracy: 0.8295\n",
      "Epoch 29/60\n",
      "43/43 [==============================] - 0s 6ms/step - loss: 0.0825 - accuracy: 0.9971 - val_loss: 0.7999 - val_accuracy: 0.8527\n",
      "Epoch 30/60\n",
      "43/43 [==============================] - 0s 7ms/step - loss: 0.0708 - accuracy: 0.9981 - val_loss: 0.8241 - val_accuracy: 0.8372\n",
      "Epoch 31/60\n",
      "43/43 [==============================] - 0s 6ms/step - loss: 0.0653 - accuracy: 0.9961 - val_loss: 0.8215 - val_accuracy: 0.8450\n",
      "Epoch 32/60\n",
      "43/43 [==============================] - 0s 7ms/step - loss: 0.0625 - accuracy: 0.9981 - val_loss: 0.7534 - val_accuracy: 0.8333\n",
      "Epoch 33/60\n",
      "43/43 [==============================] - 0s 8ms/step - loss: 0.0564 - accuracy: 0.9971 - val_loss: 0.7767 - val_accuracy: 0.8527\n",
      "Epoch 34/60\n",
      "43/43 [==============================] - 0s 7ms/step - loss: 0.0626 - accuracy: 0.9961 - val_loss: 0.8042 - val_accuracy: 0.8372\n",
      "Epoch 35/60\n",
      "43/43 [==============================] - 0s 6ms/step - loss: 0.0871 - accuracy: 0.9932 - val_loss: 0.7478 - val_accuracy: 0.8488\n",
      "Epoch 36/60\n",
      "43/43 [==============================] - 0s 6ms/step - loss: 0.0902 - accuracy: 0.9922 - val_loss: 0.7895 - val_accuracy: 0.8488\n",
      "Epoch 37/60\n",
      "43/43 [==============================] - 0s 5ms/step - loss: 0.0933 - accuracy: 0.9951 - val_loss: 0.7700 - val_accuracy: 0.8217\n",
      "Epoch 38/60\n",
      "43/43 [==============================] - 0s 5ms/step - loss: 0.0924 - accuracy: 0.9912 - val_loss: 0.7210 - val_accuracy: 0.8333\n",
      "Epoch 39/60\n",
      "43/43 [==============================] - 0s 6ms/step - loss: 0.0678 - accuracy: 0.9961 - val_loss: 0.8150 - val_accuracy: 0.8256\n",
      "Epoch 40/60\n",
      "43/43 [==============================] - 0s 6ms/step - loss: 0.0644 - accuracy: 0.9951 - val_loss: 0.8105 - val_accuracy: 0.8411\n",
      "Epoch 41/60\n",
      "43/43 [==============================] - 0s 7ms/step - loss: 0.0718 - accuracy: 0.9912 - val_loss: 0.7661 - val_accuracy: 0.8372\n",
      "Epoch 42/60\n",
      "43/43 [==============================] - 0s 7ms/step - loss: 0.0601 - accuracy: 0.9981 - val_loss: 0.7269 - val_accuracy: 0.8527\n",
      "Epoch 43/60\n",
      "43/43 [==============================] - 0s 6ms/step - loss: 0.0607 - accuracy: 0.9971 - val_loss: 0.7108 - val_accuracy: 0.8372\n",
      "Epoch 44/60\n",
      "43/43 [==============================] - 0s 6ms/step - loss: 0.0497 - accuracy: 0.9971 - val_loss: 0.7511 - val_accuracy: 0.8450\n",
      "Epoch 45/60\n",
      "43/43 [==============================] - 0s 7ms/step - loss: 0.0373 - accuracy: 0.9990 - val_loss: 0.7631 - val_accuracy: 0.8372\n",
      "Epoch 46/60\n",
      "43/43 [==============================] - 0s 6ms/step - loss: 0.0317 - accuracy: 0.9990 - val_loss: 0.7502 - val_accuracy: 0.8333\n",
      "Epoch 47/60\n",
      "43/43 [==============================] - 0s 7ms/step - loss: 0.0293 - accuracy: 0.9990 - val_loss: 0.7742 - val_accuracy: 0.8411\n",
      "Epoch 48/60\n",
      "43/43 [==============================] - 0s 5ms/step - loss: 0.0249 - accuracy: 0.9990 - val_loss: 0.7353 - val_accuracy: 0.8411\n",
      "Epoch 49/60\n",
      "43/43 [==============================] - 0s 7ms/step - loss: 0.0266 - accuracy: 0.9981 - val_loss: 0.7522 - val_accuracy: 0.8450\n",
      "Epoch 50/60\n",
      "43/43 [==============================] - 0s 7ms/step - loss: 0.0248 - accuracy: 0.9990 - val_loss: 0.7494 - val_accuracy: 0.8488\n",
      "Epoch 51/60\n",
      "43/43 [==============================] - 0s 6ms/step - loss: 0.0239 - accuracy: 0.9981 - val_loss: 0.7872 - val_accuracy: 0.8256\n",
      "Epoch 52/60\n",
      "43/43 [==============================] - 0s 6ms/step - loss: 0.0401 - accuracy: 0.9971 - val_loss: 0.6488 - val_accuracy: 0.8488\n",
      "Epoch 53/60\n",
      "43/43 [==============================] - 0s 6ms/step - loss: 0.0431 - accuracy: 0.9961 - val_loss: 0.6690 - val_accuracy: 0.8566\n",
      "Epoch 54/60\n",
      "43/43 [==============================] - 0s 7ms/step - loss: 0.0346 - accuracy: 1.0000 - val_loss: 0.7634 - val_accuracy: 0.8450\n",
      "Epoch 55/60\n",
      "43/43 [==============================] - 0s 6ms/step - loss: 0.0479 - accuracy: 0.9961 - val_loss: 1.0113 - val_accuracy: 0.8023\n",
      "Epoch 56/60\n",
      "43/43 [==============================] - 0s 7ms/step - loss: 0.1503 - accuracy: 0.9767 - val_loss: 0.7994 - val_accuracy: 0.8178\n",
      "Epoch 57/60\n",
      "43/43 [==============================] - 0s 6ms/step - loss: 0.1911 - accuracy: 0.9776 - val_loss: 0.7474 - val_accuracy: 0.8372\n",
      "Epoch 58/60\n",
      "43/43 [==============================] - 0s 6ms/step - loss: 0.1183 - accuracy: 0.9961 - val_loss: 0.8816 - val_accuracy: 0.8333\n",
      "Epoch 59/60\n",
      "43/43 [==============================] - 0s 7ms/step - loss: 0.0928 - accuracy: 0.9981 - val_loss: 0.8737 - val_accuracy: 0.8527\n",
      "Epoch 60/60\n",
      "43/43 [==============================] - 0s 7ms/step - loss: 0.0711 - accuracy: 0.9990 - val_loss: 0.9538 - val_accuracy: 0.8372\n",
      "9/9 [==============================] - 0s 2ms/step\n"
     ]
    }
   ],
   "execution_count": 59
  },
  {
   "metadata": {
    "ExecuteTime": {
     "end_time": "2025-04-30T11:32:42.080054Z",
     "start_time": "2025-04-30T11:32:42.077348Z"
    }
   },
   "cell_type": "code",
   "source": "y_pred_class = np.argmax(y_pred, axis=1)",
   "id": "3d12e5a8d842cd77",
   "outputs": [],
   "execution_count": 61
  },
  {
   "metadata": {
    "ExecuteTime": {
     "end_time": "2025-04-30T11:32:42.110339Z",
     "start_time": "2025-04-30T11:32:42.105678Z"
    }
   },
   "cell_type": "code",
   "source": "check_score(y_test, y_pred_class)",
   "id": "dcc37406d5fd63f3",
   "outputs": [
    {
     "name": "stdout",
     "output_type": "stream",
     "text": [
      "F1Score: 0.566344205333375\n"
     ]
    }
   ],
   "execution_count": 62
  },
  {
   "metadata": {
    "ExecuteTime": {
     "end_time": "2025-04-30T11:32:43.238378Z",
     "start_time": "2025-04-30T11:32:43.099705Z"
    }
   },
   "cell_type": "code",
   "source": "visualize_history(hist)",
   "id": "10c9468177c983f2",
   "outputs": [
    {
     "data": {
      "text/plain": [
       "<Figure size 640x480 with 1 Axes>"
      ],
      "image/png": "[encoded data removed]"
     },
     "metadata": {},
     "output_type": "display_data"
    },
    {
     "data": {
      "text/plain": [
       "<Figure size 640x480 with 1 Axes>"
      ],
      "image/png": "[encoded data removed]"
     },
     "metadata": {},
     "output_type": "display_data"
    }
   ],
   "execution_count": 63
  }
 ],
 "metadata": {
  "kernelspec": {
   "display_name": "Python 3",
   "language": "python",
   "name": "python3"
  },
  "language_info": {
   "codemirror_mode": {
    "name": "ipython",
    "version": 2
   },
   "file_extension": ".py",
   "mimetype": "text/x-python",
   "name": "python",
   "nbconvert_exporter": "python",
   "pygments_lexer": "ipython2",
   "version": "2.7.6"
  }
 },
 "nbformat": 4,
 "nbformat_minor": 5
}
